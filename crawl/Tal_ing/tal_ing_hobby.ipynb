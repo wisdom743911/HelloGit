{
 "cells": [
  {
   "cell_type": "markdown",
   "metadata": {},
   "source": [
    "## 탈잉 \n",
    "### 카테고리 :취미/공예 \n",
    "\n",
    "- 총 125 페이지\n",
    "- 페이지 당 15개 클래스\n",
    "- likes,link,location,number,price,teacher,title\n",
    "- 'location'의 경우 타 사이트와의 비교 후 tile과 합칠 예정 `'[' + location + ']' + title`\n",
    "\n",
    "- 해당 카테고리 내에 있는 1873개(오후기준: 1875개) 클래스 중 모두 크롤링 완료"
   ]
  },
  {
   "cell_type": "code",
   "execution_count": 3,
   "metadata": {},
   "outputs": [],
   "source": [
    "import scrapy, requests, re \n",
    "from scrapy.http import TextResponse\n",
    "\n",
    "import time\n",
    "import pandas as pd"
   ]
  },
  {
   "cell_type": "code",
   "execution_count": 2,
   "metadata": {},
   "outputs": [],
   "source": [
    "# 프로젝트 생성"
   ]
  },
  {
   "cell_type": "code",
   "execution_count": 2,
   "metadata": {
    "collapsed": true
   },
   "outputs": [
    {
     "name": "stdout",
     "output_type": "stream",
     "text": [
      "New Scrapy project 'tal_ing', using template directory 'C:\\Users\\study\\anaconda3\\lib\\site-packages\\scrapy\\templates\\project', created in:\n",
      "    C:\\Users\\study\\Desktop\\crawling\\tal_ing\n",
      "\n",
      "You can start your first spider with:\n",
      "    cd tal_ing\n",
      "    scrapy genspider example example.com\n"
     ]
    }
   ],
   "source": [
    "!scrapy startproject tal_ing"
   ]
  },
  {
   "cell_type": "code",
   "execution_count": 4,
   "metadata": {},
   "outputs": [],
   "source": [
    "# link"
   ]
  },
  {
   "cell_type": "code",
   "execution_count": 3,
   "metadata": {},
   "outputs": [
    {
     "data": {
      "text/plain": [
       "<200 https://taling.me/Home/Search/?cateMain=22>"
      ]
     },
     "execution_count": 3,
     "metadata": {},
     "output_type": "execute_result"
    }
   ],
   "source": [
    "req = requests.get(\"https://taling.me/Home/Search/?cateMain=22\")\n",
    "response = TextResponse(req.url, body=req.text, encoding=\"utf-8\")\n",
    "response"
   ]
  },
  {
   "cell_type": "code",
   "execution_count": 10,
   "metadata": {},
   "outputs": [],
   "source": [
    "# xpath 찾기 (page 1)"
   ]
  },
  {
   "cell_type": "code",
   "execution_count": 4,
   "metadata": {},
   "outputs": [
    {
     "data": {
      "text/plain": [
       "(15,\n",
       " ['/Talent/Detail/33374',\n",
       "  '/Talent/Detail/32152',\n",
       "  '/Talent/Detail/3750',\n",
       "  '/Talent/Detail/18571',\n",
       "  '/Talent/Detail/3281',\n",
       "  '/Talent/Detail/7060',\n",
       "  '/Talent/Detail/12005',\n",
       "  '/Talent/Detail/15043',\n",
       "  '/Talent/Detail/15175',\n",
       "  '/Talent/Detail/3309',\n",
       "  '/Talent/Detail/4109',\n",
       "  '/Talent/Detail/4617',\n",
       "  '/Talent/Detail/28671',\n",
       "  '/Talent/Detail/9057',\n",
       "  '/Talent/Detail/3922'])"
      ]
     },
     "execution_count": 4,
     "metadata": {},
     "output_type": "execute_result"
    }
   ],
   "source": [
    "links = response.xpath('//*[@id=\"top-space\"]/div/div/a/@href').extract()\n",
    "len(links), links"
   ]
  },
  {
   "cell_type": "code",
   "execution_count": 5,
   "metadata": {},
   "outputs": [
    {
     "data": {
      "text/plain": [
       "['https://taling.me/Talent/Detail/33374',\n",
       " 'https://taling.me/Talent/Detail/32152',\n",
       " 'https://taling.me/Talent/Detail/3750',\n",
       " 'https://taling.me/Talent/Detail/18571',\n",
       " 'https://taling.me/Talent/Detail/3281',\n",
       " 'https://taling.me/Talent/Detail/7060',\n",
       " 'https://taling.me/Talent/Detail/12005',\n",
       " 'https://taling.me/Talent/Detail/15043',\n",
       " 'https://taling.me/Talent/Detail/15175',\n",
       " 'https://taling.me/Talent/Detail/3309',\n",
       " 'https://taling.me/Talent/Detail/4109',\n",
       " 'https://taling.me/Talent/Detail/4617',\n",
       " 'https://taling.me/Talent/Detail/28671',\n",
       " 'https://taling.me/Talent/Detail/9057',\n",
       " 'https://taling.me/Talent/Detail/3922']"
      ]
     },
     "execution_count": 5,
     "metadata": {},
     "output_type": "execute_result"
    }
   ],
   "source": [
    "links = list(map(response.urljoin, links))\n",
    "links"
   ]
  },
  {
   "cell_type": "code",
   "execution_count": 9,
   "metadata": {},
   "outputs": [],
   "source": [
    "# 강좌정보 xpath"
   ]
  },
  {
   "cell_type": "code",
   "execution_count": 6,
   "metadata": {},
   "outputs": [
    {
     "data": {
      "text/plain": [
       "<200 https://taling.me/Talent/Detail/7060>"
      ]
     },
     "execution_count": 6,
     "metadata": {},
     "output_type": "execute_result"
    }
   ],
   "source": [
    "link = links[5]\n",
    "req = requests.get(link)\n",
    "response = TextResponse(req.url, body=req.text, encoding=\"utf-8\")\n",
    "response"
   ]
  },
  {
   "cell_type": "code",
   "execution_count": 14,
   "metadata": {},
   "outputs": [
    {
     "data": {
      "text/plain": [
       "('요즘 대세는 쥬브썸 플라워 스튜디오 :)',\n",
       " '신지우 튜터',\n",
       " '총 1회 2시간',\n",
       " '40,000원 /',\n",
       " '5.0',\n",
       " '신촌홍대',\n",
       " [])"
      ]
     },
     "execution_count": 14,
     "metadata": {},
     "output_type": "execute_result"
    }
   ],
   "source": [
    "site = '탈잉'\n",
    "title = response.xpath('//*[@id=\"wrap\"]/div[2]/div[1]/section[1]/h1/text()')[0].extract()\n",
    "teacher = response.xpath('//*[@id=\"wrap\"]/div[2]/div[1]/section[1]/div/div[2]/em/text()')[0].extract()\n",
    "number = response.xpath('//*[@id=\"wrap\"]/div[2]/aside/div/p/span[2]/span/text()')[0].extract()\n",
    "price = response.xpath('//*[@id=\"wrap\"]/div[2]/div[3]/div/div[2]/p/span[2]/b/text()')[0].extract()\n",
    "contentment = response.xpath('//*[@id=\"wrap\"]/div[2]/div[1]/section[1]/div/div[2]/span/i[2]/text()')[0].extract()\n",
    "location = response.xpath('//*[@id=\"wrap\"]/div[2]/div[3]/div/div[2]/div/p[2]/text()')[0].extract().strip()\n",
    "soldout = response.xpath('//*[@id=\"wrap\"]/div[2]/aside/div/ul[2]/li[2]/a/text').extract()\n",
    "\n",
    "site, title, teacher, number, s_price, contentment, location, soldout"
   ]
  },
  {
   "cell_type": "code",
   "execution_count": null,
   "metadata": {},
   "outputs": [],
   "source": [
    "# items.py "
   ]
  },
  {
   "cell_type": "code",
   "execution_count": 8,
   "metadata": {},
   "outputs": [
    {
     "name": "stdout",
     "output_type": "stream",
     "text": [
      "Overwriting tal_ing/tal_ing/items.py\n"
     ]
    }
   ],
   "source": [
    "%%writefile tal_ing/tal_ing/items.py\n",
    "import scrapy\n",
    "\n",
    "\n",
    "class TalIngItem(scrapy.Item):\n",
    "    site = scrapy.Field()\n",
    "    title = scrapy.Field()\n",
    "    teacher = scrapy.Field()\n",
    "    number = scrapy.Field()\n",
    "    price = scrapy.Field()\n",
    "    contentment = scrapy.Field()\n",
    "    link = scrapy.Field()\n",
    "    soldout = scrapy.Field()\n",
    "    "
   ]
  },
  {
   "cell_type": "code",
   "execution_count": 28,
   "metadata": {},
   "outputs": [],
   "source": [
    "# spider.py"
   ]
  },
  {
   "cell_type": "code",
   "execution_count": 9,
   "metadata": {},
   "outputs": [
    {
     "name": "stdout",
     "output_type": "stream",
     "text": [
      "Overwriting tal_ing/tal_ing/spiders/spider.py\n"
     ]
    }
   ],
   "source": [
    "%%writefile talinghobby/talinghobby/spiders/spider.py\n",
    "import scrapy\n",
    "from tal_ing.items import TalIngItem\n",
    "\n",
    "\n",
    "class TalIngSpider(scrapy.Spider):\n",
    "    name = \"TalingHobby\"\n",
    "    allow_domain = [\"taling.me\"]\n",
    "    pages = range(1, 125+1)\n",
    "    start_urls = [f\"https://taling.me/Home/Search/?page={page}&cateMain=22&cateSub=&region=&orderIdx=&query=&code=&org=&day=&time=&tType=&region=&regionMain=\" for page in pages]\n",
    "    \n",
    "    def parse(self, response):\n",
    "        links = response.xpath('//*[@id=\"top-space\"]/div/div/a/@href').extract()\n",
    "        links = list(map(response.urljoin, links))\n",
    "        for link in links:\n",
    "            #time.sleep(120) \n",
    "            yield scrapy.Request(link, callback=self.parse_content)\n",
    "    \n",
    "    def parse_content(self, response):\n",
    "        item = TalIngItem()\n",
    "        item['site'] = '탈잉'\n",
    "        item['category1'] = '취미/공예'\n",
    "        item['category2'] = 'nan'\n",
    "        location = response.xpath('//*[@id=\"wrap\"]/div[2]/div[3]/div/div[2]/div/p[2]/text()')[0].extract().strip()\n",
    "        item[\"title\"] = '[' + location + ']' + response.xpath('//*[@id=\"wrap\"]/div[2]/div[1]/section[1]/h1/text()')[0].extract()\n",
    "        item[\"teacher\"] = response.xpath('//*[@id=\"wrap\"]/div[2]/div[1]/section[1]/div/div[2]/em/text()')[0].extract()\n",
    "        try:\n",
    "            item[\"number\"] = response.xpath('//*[@id=\"wrap\"]/div[2]/aside/div/p/span[2]/span/text()')[0].extract()\n",
    "        except:\n",
    "            item[\"number\"] = response.xpath('//*[@id=\"wrap\"]/div[2]/div[3]/div/div[2]/p/span[2]/span/text()')[0].extract()\n",
    "        item[\"price\"] = '총 ' + response.xpath('//*[@id=\"wrap\"]/div[2]/div[3]/div/div[2]/p/span[2]/b/text()')[0].extract().replace(' /', '')\n",
    "        try:\n",
    "            item[\"likes\"] = response.xpath('//*[@id=\"wrap\"]/div[2]/div[1]/section[1]/div/div[2]/span/i[2]/text()')[0].extract()\n",
    "        except:\n",
    "            item[\"likes\"] = \"(0)\"\n",
    "        soldout = response.xpath('//*[@id=\"wrap\"]/div[2]/aside/div/ul[2]/li[2]/a/text()').extract()\n",
    "        if soldout not in _:\n",
    "            pass\n",
    "        else:\n",
    "            item[\"soldout\"] = response.xpath('//*[@id=\"wrap\"]/div[2]/aside/div/ul[2]/li[2]/a/text()').extract()\n",
    "        \n",
    "        item[\"link\"] = response.url\n",
    "        #time.sleep(120)\n",
    "        yield item\n",
    "    \n",
    "    "
   ]
  },
  {
   "cell_type": "code",
   "execution_count": 8,
   "metadata": {},
   "outputs": [
    {
     "data": {
      "text/plain": [
       "('탈잉',\n",
       " '[신촌홍대]요즘 대세는 쥬브썸 플라워 스튜디오 :)',\n",
       " '신지우 튜터',\n",
       " '총 1회 2시간',\n",
       " '총 40,000원',\n",
       " '5.0')"
      ]
     },
     "execution_count": 8,
     "metadata": {},
     "output_type": "execute_result"
    }
   ],
   "source": [
    "pages = range(1, 125+1)\n",
    "start_urls = [f\"https://taling.me/Home/Search/?page={page}&cateMain=22&cateSub=&region=&orderIdx=&query=&code=&org=&day=&time=&tType=&region=&regionMain=\" for page in pages]\n",
    "req = requests.get(start_urls[0])\n",
    "response = TextResponse(req.url, body=req.text, encoding=\"utf-8\")\n",
    "\n",
    "links = response.xpath('//*[@id=\"top-space\"]/div/div/a/@href').extract()\n",
    "links = list(map(response.urljoin, links))\n",
    "req = requests.get(links[1])\n",
    "response = TextResponse(req.url, body=req.text, encoding=\"utf-8\")\n",
    "\n",
    "site = '탈잉'\n",
    "location = response.xpath('//*[@id=\"wrap\"]/div[2]/div[3]/div/div[2]/div/p[2]/text()')[0].extract().strip()\n",
    "\n",
    "title = '[' + location + ']' + response.xpath('//*[@id=\"wrap\"]/div[2]/div[1]/section[1]/h1/text()')[0].extract()\n",
    "teacher = response.xpath('//*[@id=\"wrap\"]/div[2]/div[1]/section[1]/div/div[2]/em/text()')[0].extract()\n",
    "number = response.xpath('//*[@id=\"wrap\"]/div[2]/aside/div/p/span[2]/span/text()')[0].extract()\n",
    "s_price = '총 ' + response.xpath('//*[@id=\"wrap\"]/div[2]/div[3]/div/div[2]/p/span[2]/b/text()')[0].extract().replace(' /', '')\n",
    "contentment = response.xpath('//*[@id=\"wrap\"]/div[2]/div[1]/section[1]/div/div[2]/span/i[2]/text()')[0].extract() \n",
    "#soldout= response.xpath('//*[@id=\"wrap\"]/div[2]/aside/div/ul[2]/li[2]/a/text()').extract()\n",
    "link = response.url\n",
    "\n",
    "\n",
    "site, title, teacher, number, s_price, contentment"
   ]
  },
  {
   "cell_type": "code",
   "execution_count": 2,
   "metadata": {},
   "outputs": [
    {
     "data": {
      "text/plain": [
       "'C:\\\\Users\\\\study\\\\Desktop\\\\git\\\\Tal_ing'"
      ]
     },
     "execution_count": 2,
     "metadata": {},
     "output_type": "execute_result"
    }
   ],
   "source": [
    "%pwd"
   ]
  },
  {
   "cell_type": "code",
   "execution_count": 32,
   "metadata": {
    "collapsed": true
   },
   "outputs": [
    {
     "name": "stdout",
     "output_type": "stream",
     "text": [
      " Volume in drive C has no label.\n",
      " Volume Serial Number is 7DCE-F2C1\n",
      "\n",
      " Directory of C:\\Users\\study\\Desktop\\crawling\\tal_ing\\tal_ing\n",
      "\n",
      "2021-03-02  �삤�썑 07:11    <DIR>          .\n",
      "2021-03-02  �삤�썑 07:11    <DIR>          ..\n",
      "2021-02-23  �삤�썑 08:28                 0 __init__.py\n",
      "2021-03-02  �삤�썑 07:11    <DIR>          __pycache__\n",
      "2021-03-02  �삤�썑 06:48               258 items.py\n",
      "2021-03-02  �삤�썑 06:48             3,648 middlewares.py\n",
      "2021-03-02  �삤�썑 06:48               360 pipelines.py\n",
      "2021-03-02  �삤�썑 06:48             3,065 settings.py\n",
      "2021-03-02  �삤�썑 07:11    <DIR>          spiders\n",
      "               5 File(s)          7,331 bytes\n",
      "               4 Dir(s)  343,526,658,048 bytes free\n"
     ]
    }
   ],
   "source": [
    "%ls tal_ing"
   ]
  },
  {
   "cell_type": "code",
   "execution_count": 11,
   "metadata": {},
   "outputs": [
    {
     "name": "stdout",
     "output_type": "stream",
     "text": [
      "Overwriting run.sh\n"
     ]
    }
   ],
   "source": [
    "%%writefile run.sh\n",
    "cd C:\\Users\\study\\Desktop\\crawling\\tal_ing\n",
    "scrapy crawl TalingHobby -o taling-test5.csv"
   ]
  },
  {
   "cell_type": "code",
   "execution_count": 27,
   "metadata": {},
   "outputs": [
    {
     "name": "stdout",
     "output_type": "stream",
     "text": [
      "scrapy.cfg\n",
      "tal_ing\n"
     ]
    }
   ],
   "source": [
    "!ls"
   ]
  },
  {
   "cell_type": "code",
   "execution_count": 61,
   "metadata": {},
   "outputs": [
    {
     "name": "stdout",
     "output_type": "stream",
     "text": [
      "C:\\Users\\study\\Desktop\\crawling\\tal_ing\n"
     ]
    }
   ],
   "source": [
    "%cd tal_ing/"
   ]
  },
  {
   "cell_type": "code",
   "execution_count": 36,
   "metadata": {},
   "outputs": [
    {
     "name": "stdout",
     "output_type": "stream",
     "text": [
      "/c/Users/study/Desktop/crawling/tal_ing\n"
     ]
    }
   ],
   "source": [
    "!pwd"
   ]
  },
  {
   "cell_type": "code",
   "execution_count": 26,
   "metadata": {},
   "outputs": [
    {
     "name": "stderr",
     "output_type": "stream",
     "text": [
      "The system cannot find the path specified.\n"
     ]
    }
   ],
   "source": [
    "!/bin/bash run.sh         "
   ]
  },
  {
   "cell_type": "code",
   "execution_count": 28,
   "metadata": {},
   "outputs": [
    {
     "name": "stdout",
     "output_type": "stream",
     "text": [
      "^C\n"
     ]
    }
   ],
   "source": [
    "#!scrapy crawl TalingHobby -o taling-test5.csv -t csv"
   ]
  },
  {
   "cell_type": "code",
   "execution_count": 12,
   "metadata": {
    "scrolled": true
   },
   "outputs": [
    {
     "data": {
      "text/html": [
       "<div>\n",
       "<style scoped>\n",
       "    .dataframe tbody tr th:only-of-type {\n",
       "        vertical-align: middle;\n",
       "    }\n",
       "\n",
       "    .dataframe tbody tr th {\n",
       "        vertical-align: top;\n",
       "    }\n",
       "\n",
       "    .dataframe thead th {\n",
       "        text-align: right;\n",
       "    }\n",
       "</style>\n",
       "<table border=\"1\" class=\"dataframe\">\n",
       "  <thead>\n",
       "    <tr style=\"text-align: right;\">\n",
       "      <th></th>\n",
       "      <th>likes</th>\n",
       "      <th>link</th>\n",
       "      <th>location</th>\n",
       "      <th>number</th>\n",
       "      <th>price</th>\n",
       "      <th>teacher</th>\n",
       "      <th>title</th>\n",
       "    </tr>\n",
       "  </thead>\n",
       "  <tbody>\n",
       "    <tr>\n",
       "      <th>0</th>\n",
       "      <td>4.9</td>\n",
       "      <td>https://taling.me/Talent/Detail/15128</td>\n",
       "      <td>강남</td>\n",
       "      <td>총 1회 2시간</td>\n",
       "      <td>30,000원 /</td>\n",
       "      <td>박현준 튜터</td>\n",
       "      <td>[원데이] 나만의 느낌있는 드로잉으로, 나만의 드로잉 하기!</td>\n",
       "    </tr>\n",
       "    <tr>\n",
       "      <th>1</th>\n",
       "      <td>5.0</td>\n",
       "      <td>https://taling.me/Talent/Detail/23609</td>\n",
       "      <td>강서</td>\n",
       "      <td>총 1회 2시간</td>\n",
       "      <td>78,000원 /</td>\n",
       "      <td>KIKO 튜터</td>\n",
       "      <td>샹들리에 케이크: 하루 배워 해마다 써먹기! (앙금+생크림 조합)</td>\n",
       "    </tr>\n",
       "    <tr>\n",
       "      <th>2</th>\n",
       "      <td>5.0</td>\n",
       "      <td>https://taling.me/Talent/Detail/31172</td>\n",
       "      <td>왕십리</td>\n",
       "      <td>총 4회 4시간</td>\n",
       "      <td>150,000원 /</td>\n",
       "      <td>SCHOLAR 튜터</td>\n",
       "      <td>[연습생 출신/현직 탑라이너/작곡가] 자신에게 맞는 커리큘럼으로 개성과 실력을 동시에!</td>\n",
       "    </tr>\n",
       "    <tr>\n",
       "      <th>3</th>\n",
       "      <td>5.0</td>\n",
       "      <td>https://taling.me/Talent/Detail/3503</td>\n",
       "      <td>강남 온라인 Live 논현</td>\n",
       "      <td>총 1회 2시간</td>\n",
       "      <td>50,000원 /</td>\n",
       "      <td>남재현 튜터</td>\n",
       "      <td>[강남 1위/90분 원데이] '최고의 장비' 분석을 통해 '고음' '발성 문제' 바...</td>\n",
       "    </tr>\n",
       "    <tr>\n",
       "      <th>4</th>\n",
       "      <td>5.0</td>\n",
       "      <td>https://taling.me/Talent/Detail/20164</td>\n",
       "      <td>구로</td>\n",
       "      <td>총 4회 4시간</td>\n",
       "      <td>150,000원 /</td>\n",
       "      <td>신성우 튜터</td>\n",
       "      <td>(작곡클래스) 방구석 건반/작곡으로 끝장 보자!!   [구로디지털단지][신림]</td>\n",
       "    </tr>\n",
       "    <tr>\n",
       "      <th>...</th>\n",
       "      <td>...</td>\n",
       "      <td>...</td>\n",
       "      <td>...</td>\n",
       "      <td>...</td>\n",
       "      <td>...</td>\n",
       "      <td>...</td>\n",
       "      <td>...</td>\n",
       "    </tr>\n",
       "    <tr>\n",
       "      <th>1870</th>\n",
       "      <td>(0)</td>\n",
       "      <td>https://taling.me/Talent/Detail/13311</td>\n",
       "      <td>대구중앙</td>\n",
       "      <td>총 1회 2시간</td>\n",
       "      <td>20,000원 /</td>\n",
       "      <td>김미선 튜터</td>\n",
       "      <td>인스타사진 예쁘게 찍는 꿀팁/촬영/보정/ 필름카메라로 인생샷 남기기까지 단 하루</td>\n",
       "    </tr>\n",
       "    <tr>\n",
       "      <th>1871</th>\n",
       "      <td>(0)</td>\n",
       "      <td>https://taling.me/Talent/Detail/8358</td>\n",
       "      <td>구월동 수원</td>\n",
       "      <td>총 1회 3시간</td>\n",
       "      <td>84,000원 /</td>\n",
       "      <td>임은영 튜터</td>\n",
       "      <td>[인천/원데이] 특별한 날 특별한 분께 드리는 플라워 앙금케이크</td>\n",
       "    </tr>\n",
       "    <tr>\n",
       "      <th>1872</th>\n",
       "      <td>(0)</td>\n",
       "      <td>https://taling.me/Talent/Detail/7426</td>\n",
       "      <td>서현 잠실</td>\n",
       "      <td>총 5회 10시간</td>\n",
       "      <td>120,000원 /</td>\n",
       "      <td>김혜진 튜터</td>\n",
       "      <td>(발손가능) 여행,영화의 특별한 순간들을 나만의 일러스트로 남기기!</td>\n",
       "    </tr>\n",
       "    <tr>\n",
       "      <th>1873</th>\n",
       "      <td>(0)</td>\n",
       "      <td>https://taling.me/Talent/Detail/25979</td>\n",
       "      <td>신촌홍대</td>\n",
       "      <td>총 1회 3시간</td>\n",
       "      <td>90,000원 /</td>\n",
       "      <td>장세미 튜터</td>\n",
       "      <td>레터링 케이크 만들기 실전반 클래스</td>\n",
       "    </tr>\n",
       "    <tr>\n",
       "      <th>1874</th>\n",
       "      <td>(0)</td>\n",
       "      <td>https://taling.me/Talent/Detail/14610</td>\n",
       "      <td>부산부경대</td>\n",
       "      <td>총 1회 2시간</td>\n",
       "      <td>40,000원 /</td>\n",
       "      <td>공재현 튜터</td>\n",
       "      <td>[부산]2시간만에 나만의 음원제작해볼까요??^^</td>\n",
       "    </tr>\n",
       "  </tbody>\n",
       "</table>\n",
       "<p>1875 rows × 7 columns</p>\n",
       "</div>"
      ],
      "text/plain": [
       "     likes                                   link        location     number  \\\n",
       "0      4.9  https://taling.me/Talent/Detail/15128              강남   총 1회 2시간   \n",
       "1      5.0  https://taling.me/Talent/Detail/23609              강서   총 1회 2시간   \n",
       "2      5.0  https://taling.me/Talent/Detail/31172             왕십리   총 4회 4시간   \n",
       "3      5.0   https://taling.me/Talent/Detail/3503  강남 온라인 Live 논현   총 1회 2시간   \n",
       "4      5.0  https://taling.me/Talent/Detail/20164              구로   총 4회 4시간   \n",
       "...    ...                                    ...             ...        ...   \n",
       "1870   (0)  https://taling.me/Talent/Detail/13311            대구중앙   총 1회 2시간   \n",
       "1871   (0)   https://taling.me/Talent/Detail/8358          구월동 수원   총 1회 3시간   \n",
       "1872   (0)   https://taling.me/Talent/Detail/7426           서현 잠실  총 5회 10시간   \n",
       "1873   (0)  https://taling.me/Talent/Detail/25979            신촌홍대   총 1회 3시간   \n",
       "1874   (0)  https://taling.me/Talent/Detail/14610           부산부경대   총 1회 2시간   \n",
       "\n",
       "           price     teacher  \\\n",
       "0      30,000원 /      박현준 튜터   \n",
       "1      78,000원 /     KIKO 튜터   \n",
       "2     150,000원 /  SCHOLAR 튜터   \n",
       "3      50,000원 /      남재현 튜터   \n",
       "4     150,000원 /      신성우 튜터   \n",
       "...          ...         ...   \n",
       "1870   20,000원 /      김미선 튜터   \n",
       "1871   84,000원 /      임은영 튜터   \n",
       "1872  120,000원 /      김혜진 튜터   \n",
       "1873   90,000원 /      장세미 튜터   \n",
       "1874   40,000원 /      공재현 튜터   \n",
       "\n",
       "                                                  title  \n",
       "0                     [원데이] 나만의 느낌있는 드로잉으로, 나만의 드로잉 하기!  \n",
       "1                  샹들리에 케이크: 하루 배워 해마다 써먹기! (앙금+생크림 조합)  \n",
       "2      [연습생 출신/현직 탑라이너/작곡가] 자신에게 맞는 커리큘럼으로 개성과 실력을 동시에!  \n",
       "3     [강남 1위/90분 원데이] '최고의 장비' 분석을 통해 '고음' '발성 문제' 바...  \n",
       "4           (작곡클래스) 방구석 건반/작곡으로 끝장 보자!!   [구로디지털단지][신림]  \n",
       "...                                                 ...  \n",
       "1870       인스타사진 예쁘게 찍는 꿀팁/촬영/보정/ 필름카메라로 인생샷 남기기까지 단 하루  \n",
       "1871                [인천/원데이] 특별한 날 특별한 분께 드리는 플라워 앙금케이크  \n",
       "1872              (발손가능) 여행,영화의 특별한 순간들을 나만의 일러스트로 남기기!  \n",
       "1873                               레터링 케이크 만들기 실전반 클래스   \n",
       "1874                         [부산]2시간만에 나만의 음원제작해볼까요??^^  \n",
       "\n",
       "[1875 rows x 7 columns]"
      ]
     },
     "execution_count": 12,
     "metadata": {},
     "output_type": "execute_result"
    }
   ],
   "source": [
    "pd.read_csv(\"tal_ing/taling-hobby.csv\")"
   ]
  }
 ],
 "metadata": {
  "kernelspec": {
   "display_name": "Python 3",
   "language": "python",
   "name": "python3"
  },
  "language_info": {
   "codemirror_mode": {
    "name": "ipython",
    "version": 3
   },
   "file_extension": ".py",
   "mimetype": "text/x-python",
   "name": "python",
   "nbconvert_exporter": "python",
   "pygments_lexer": "ipython3",
   "version": "3.8.5"
  }
 },
 "nbformat": 4,
 "nbformat_minor": 5
}
